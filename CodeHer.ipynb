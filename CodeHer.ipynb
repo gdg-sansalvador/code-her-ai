{
  "nbformat": 4,
  "nbformat_minor": 0,
  "metadata": {
    "colab": {
      "provenance": []
    },
    "kernelspec": {
      "name": "python3",
      "display_name": "Python 3"
    },
    "language_info": {
      "name": "python"
    }
  },
  "cells": [
    {
      "cell_type": "markdown",
      "source": [
        "# **CodeHer: Fundamentos de Python para IA**\n"
      ],
      "metadata": {
        "id": "rZf0-_34vz_R"
      }
    },
    {
      "cell_type": "markdown",
      "source": [
        "# Variables y salidas\n"
      ],
      "metadata": {
        "id": "qJG899PHK-L5"
      }
    },
    {
      "cell_type": "code",
      "source": [
        "#Comentarios :)\n",
        "\n",
        "x= 5              #int (entero)\n",
        "p= 5.5            #float (flotante)\n",
        "y= 'Hola Mundo'   #str (texto)\n",
        "print(y)          #Imprimir la variable y\n"
      ],
      "metadata": {
        "id": "LxjRhC6a9gcJ"
      },
      "execution_count": null,
      "outputs": []
    },
    {
      "cell_type": "markdown",
      "source": [
        "# Manejo de datos"
      ],
      "metadata": {
        "id": "V_Y3JZWKLThO"
      }
    },
    {
      "cell_type": "code",
      "source": [
        "lista_vacia = []\n",
        "frutas = ['manzana', 'uva', 'naranja', 'banana']\n",
        "\n",
        "print(frutas[0]) #Accediendo al primer elemento"
      ],
      "metadata": {
        "id": "fTmk7WtG9xR3"
      },
      "execution_count": null,
      "outputs": []
    },
    {
      "cell_type": "code",
      "source": [
        "# Agregando un nuevo elemento a la lista\n",
        "frutas.append(\"kiwi\")\n",
        "print(frutas)"
      ],
      "metadata": {
        "id": "spy34EdLDGZw"
      },
      "execution_count": null,
      "outputs": []
    },
    {
      "cell_type": "code",
      "source": [
        "#Otros arreglos de datos\n",
        "tupla = (\"manzana\", \"banana\")\n",
        "diccionario = { 'id': '1','nombre': 'Fátima' , 'edad': '22',}\n",
        "print(diccionario)"
      ],
      "metadata": {
        "id": "lcx40Hf8C31o"
      },
      "execution_count": null,
      "outputs": []
    },
    {
      "cell_type": "markdown",
      "source": [
        "# Estructuras"
      ],
      "metadata": {
        "id": "ygJX9PA_LzD2"
      }
    },
    {
      "cell_type": "code",
      "source": [
        "#Estructuras condicionales\n",
        "z= 3\n",
        "\n",
        "if (x<z):\n",
        "  print (\"x es menor a z\")\n",
        "elif (x>z):\n",
        "  print(\"x es mayor a z\")\n",
        "else:\n",
        "  print(\"ninguna de las condiciones es verdadera\")\n"
      ],
      "metadata": {
        "id": "9hLGLTbY_hMw"
      },
      "execution_count": null,
      "outputs": []
    },
    {
      "cell_type": "code",
      "source": [
        "#Estructuras repetitivas\n",
        "\n",
        "for numero in range(1, 6):\n",
        "    print(numero)"
      ],
      "metadata": {
        "id": "8Z0y7qwIHwQU"
      },
      "execution_count": null,
      "outputs": []
    },
    {
      "cell_type": "code",
      "source": [
        "for fruta in frutas:\n",
        "  print(fruta)"
      ],
      "metadata": {
        "id": "88UyRdmcJDQA"
      },
      "execution_count": null,
      "outputs": []
    },
    {
      "cell_type": "markdown",
      "source": [
        "# Librerías y funciones"
      ],
      "metadata": {
        "id": "3vndzGX5L3PR"
      }
    },
    {
      "cell_type": "code",
      "source": [
        "#Librerías\n",
        "\n",
        "import math as m\n",
        "import pandas as pd\n",
        "import numpy as np\n",
        "import tensorflow as tf\n",
        "from datetime import datetime"
      ],
      "metadata": {
        "id": "AUi-KRGGwo6L"
      },
      "execution_count": null,
      "outputs": []
    },
    {
      "cell_type": "code",
      "source": [
        "#Funciones y argumentos\n",
        "\n",
        "def mi_funcion(argumento):\n",
        "  print(\"Esta es mi función: \" + argumento)"
      ],
      "metadata": {
        "id": "c0eC0HZGGbP5"
      },
      "execution_count": null,
      "outputs": []
    },
    {
      "cell_type": "code",
      "source": [
        "#Llamadas a funciones\n",
        "\n",
        "a = \"Python\"\n",
        "mi_funcion(a)\n"
      ],
      "metadata": {
        "id": "67PdrlhwGqRB"
      },
      "execution_count": null,
      "outputs": []
    },
    {
      "cell_type": "code",
      "source": [
        "x= m.sqrt(64)\n",
        "print(x)"
      ],
      "metadata": {
        "id": "gOjkLSp8IWDX"
      },
      "execution_count": null,
      "outputs": []
    },
    {
      "cell_type": "code",
      "source": [
        "y = datetime.now()\n",
        "print(y)"
      ],
      "metadata": {
        "id": "lxNnPq9BIu2L"
      },
      "execution_count": null,
      "outputs": []
    }
  ]
}